{
 "cells": [
  {
   "cell_type": "code",
   "execution_count": null,
   "metadata": {},
   "outputs": [
    {
     "name": "stdout",
     "output_type": "stream",
     "text": [
      "Timing Lists Sum:\n",
      "[0, 2, 4, 6, 8]\n",
      "CPU times: total: 0 ns\n",
      "Wall time: 1.13 ms\n",
      "\n",
      "timing Arrays Sum: \n"
     ]
    },
    {
     "name": "stderr",
     "output_type": "stream",
     "text": [
      "UsageError: Line magic function `%timing` not found.\n"
     ]
    }
   ],
   "source": [
    "import numpy as np \n",
    "import time\n",
    "\n",
    "SIZE = 5_000\n",
    "\n",
    "def calculate_python_lists_p2p_sum():\n",
    "    l1=list(range(SIZE))\n",
    "    l2=list(range(SIZE))\n",
    "\n",
    "    result = [(x+y) for x,y in zip(l1,l2)]\n",
    "    print(result[0:5])\n",
    "\n",
    "def calculate_numpy_arrays_p2p_sum():\n",
    "    a1=np.arange(SIZE)\n",
    "    a2=np.arange(SIZE)\n",
    "\n",
    "    result = a1+a2\n",
    "    print(result[0:5])\n",
    "\n",
    "print('Timing Lists Sum:')\n",
    "%time calculate_python_lists_p2p_sum()\n",
    "print(''*50)\n",
    "print('timing Arrays Sum: ')\n",
    "%timing calculate_numpy_arrays_p2p_sum()\n"
   ]
  }
 ],
 "metadata": {
  "kernelspec": {
   "display_name": ".venv",
   "language": "python",
   "name": "python3"
  },
  "language_info": {
   "codemirror_mode": {
    "name": "ipython",
    "version": 3
   },
   "file_extension": ".py",
   "mimetype": "text/x-python",
   "name": "python",
   "nbconvert_exporter": "python",
   "pygments_lexer": "ipython3",
   "version": "3.11.8"
  }
 },
 "nbformat": 4,
 "nbformat_minor": 2
}
